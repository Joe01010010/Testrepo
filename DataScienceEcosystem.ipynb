{
 "cells": [
  {
   "cell_type": "markdown",
   "id": "ffb37609-9159-4abe-9bdd-f73de8448334",
   "metadata": {},
   "source": [
    "# Data Science tools and Ecosystem"
   ]
  },
  {
   "attachments": {},
   "cell_type": "markdown",
   "id": "98ec1f7f-4abd-4618-8667-0819f5b284dc",
   "metadata": {},
   "source": [
    "## In this notebook, data science tools and ecosystem are summarized"
   ]
  },
  {
   "cell_type": "markdown",
   "id": "a065ec5b-b05e-492d-9880-08d3e3ad41d5",
   "metadata": {},
   "source": [
    "## **Objetivos**:\n",
    "* Gaining a Competitive Advantage\n",
    "* Creating Innovative Products and Services\n",
    "* Making Data-Driven Decisions"
   ]
  },
  {
   "cell_type": "markdown",
   "id": "9ef61b9e-92c3-44a0-8470-54c10569a6cb",
   "metadata": {},
   "source": [
    "# some of the popular languages that data scientists use are:"
   ]
  },
  {
   "cell_type": "markdown",
   "id": "abf5e978-a924-4b27-b42d-54ea4e943d3b",
   "metadata": {},
   "source": [
    "* C++\n",
    "* PYTHON\n",
    "* C\n",
    "* JAVA "
   ]
  },
  {
   "cell_type": "markdown",
   "id": "2703458a-ce70-43a7-a2bf-c2d70dd50f19",
   "metadata": {
    "jp-MarkdownHeadingCollapsed": true
   },
   "source": [
    "# some of the commonly used libraries  used by data scientntis include:\n",
    "1. NumPy\n",
    "2. Pandas\n",
    "3. Seaborn\n",
    "4. Plotly\n",
    "5. Matplotlib"
   ]
  },
  {
   "cell_type": "markdown",
   "id": "79811dec-2256-45ca-a349-828e53d00af6",
   "metadata": {},
   "source": [
    "# \n",
    "A table of data science tools.\n",
    "|DATA SCIENCE TOOLS|\n",
    "|------------------|\n",
    "|PYTHON|\n",
    "|R|\n",
    "|JUPYTER|\n",
    "|APACHE SPARK|"
   ]
  },
  {
   "cell_type": "markdown",
   "id": "ef2af7a5-181d-4727-bf91-277c9ba95fc5",
   "metadata": {},
   "source": [
    "### Below are a few examples of evaluating arithmetic expressions in python:\n",
    "$3 + 3 = 6$"
   ]
  },
  {
   "cell_type": "markdown",
   "id": "1b4d3d70-d4ce-4374-865c-1c447e640750",
   "metadata": {},
   "source": [
    "# This a simple arithmetic expression to multiply then add integers\n",
    "\n",
    "\n",
    "\n"
   ]
  },
  {
   "cell_type": "code",
   "execution_count": 1,
   "id": "b1ef385e-f84d-4be0-bcb9-5b3dd03ffe0a",
   "metadata": {
    "scrolled": true
   },
   "outputs": [
    {
     "data": {
      "text/plain": [
       "17"
      ]
     },
     "execution_count": 1,
     "metadata": {},
     "output_type": "execute_result"
    }
   ],
   "source": [
    "(3 * 4)+5"
   ]
  },
  {
   "cell_type": "markdown",
   "id": "ca810239-8a93-4f92-a09a-c02d4787aedf",
   "metadata": {},
   "source": [
    "\n",
    "\n",
    "# This will convert 200 minutes to hours by diving by 60\n"
   ]
  },
  {
   "cell_type": "code",
   "execution_count": 2,
   "id": "bb2b3abe-15d7-4801-b9b5-78f5398670fd",
   "metadata": {},
   "outputs": [
    {
     "data": {
      "text/plain": [
       "3.3333333333333335"
      ]
     },
     "execution_count": 2,
     "metadata": {},
     "output_type": "execute_result"
    }
   ],
   "source": [
    "200/60"
   ]
  },
  {
   "cell_type": "markdown",
   "id": "235fb3e4-0e20-4fd8-baf2-9202ac609346",
   "metadata": {},
   "source": [
    "## Author\n",
    "Joel Rodolfo Prudencio"
   ]
  },
  {
   "cell_type": "code",
   "execution_count": null,
   "id": "0a83f677-8b02-409f-9b1f-850e5667bf22",
   "metadata": {},
   "outputs": [],
   "source": []
  }
 ],
 "metadata": {
  "kernelspec": {
   "display_name": "Python 3 (ipykernel)",
   "language": "python",
   "name": "python3"
  },
  "language_info": {
   "codemirror_mode": {
    "name": "ipython",
    "version": 3
   },
   "file_extension": ".py",
   "mimetype": "text/x-python",
   "name": "python",
   "nbconvert_exporter": "python",
   "pygments_lexer": "ipython3",
   "version": "3.13.5"
  }
 },
 "nbformat": 4,
 "nbformat_minor": 5
}
